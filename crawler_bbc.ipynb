{
 "cells": [
  {
   "cell_type": "code",
   "execution_count": 1,
   "metadata": {},
   "outputs": [],
   "source": [
    "import urllib.request, sys, time\n",
    "import requests\n",
    "from bs4 import BeautifulSoup\n",
    "import pandas as pd\n",
    "import os"
   ]
  },
  {
   "cell_type": "code",
   "execution_count": 2,
   "metadata": {},
   "outputs": [],
   "source": [
    "def get_article(url, links, visited_links, unaccessible):\n",
    "    article = ' '\n",
    "    try:\n",
    "        response = requests.get(url)\n",
    "        if response.status_code == 200:\n",
    "            visited_links.append(url)\n",
    "            links.remove(url)\n",
    "            page = BeautifulSoup(response.content, 'html.parser')\n",
    "            a_tag = page.find_all('a')\n",
    "            for link in a_tag:\n",
    "                href = link.get('href')\n",
    "                if href is not None and 'https://www.bbc.com/afaanoromoo' in href and href not in visited_links:\n",
    "                    links.append(href)\n",
    "            main = page.find_all('main')\n",
    "            for div in main:\n",
    "                paragraphs = div.find_all('p')\n",
    "                for paragraph in paragraphs:\n",
    "                    article = article+paragraph.get_text()+' \\n'\n",
    "            return article, links, visited_links, unaccessible\n",
    "            \n",
    "    except Exception as e:\n",
    "        error_type, error_obj, error_info = sys.exc_info()\n",
    "        print('ERROR FOR LINK:', url)\n",
    "        print(error_type, 'Line:', error_info.tb_lineno)\n",
    "    "
   ]
  },
  {
   "cell_type": "code",
   "execution_count": 12,
   "metadata": {},
   "outputs": [
    {
     "name": "stdout",
     "output_type": "stream",
     "text": [
      "200\n"
     ]
    }
   ],
   "source": [
    "home_url = 'https://www.bbc.com/afaanoromoo'\n",
    "response = requests.get(home_url)\n",
    "print(response.status_code)\n",
    "soup = BeautifulSoup(response.content, 'html.parser')\n",
    "a_tag = soup.find_all('a')\n",
    "links = []\n",
    "visited_links = []\n",
    "for link in a_tag:\n",
    "    links.append(link.get('href'))\n",
    "links = [link for link in links if 'https://www.bbc.com/afaanoromoo' in link]\n",
    "links = list(set(links))\n",
    "unaccessible_links = []"
   ]
  },
  {
   "cell_type": "code",
   "execution_count": 4,
   "metadata": {},
   "outputs": [],
   "source": [
    "# To continue from the last state (incase of interruption)\n",
    "import json\n",
    "if os.path.exists('bbc_links.json'):\n",
    "    with open('bbc_links.json') as f:\n",
    "        data = json.load(f)\n",
    "    links = data['link']\n",
    "    visited_links = data['visited_links']\n",
    "    unaccessible_links = data['unaccessible_links']"
   ]
  },
  {
   "cell_type": "code",
   "execution_count": 5,
   "metadata": {},
   "outputs": [
    {
     "name": "stdout",
     "output_type": "stream",
     "text": [
      "Number of links: 216\n",
      "Number of visited links: 214\n",
      "Number of unaccessible links: 0\n"
     ]
    }
   ],
   "source": [
    "print('Number of links:', len(links))\n",
    "print('Number of visited links:', len(visited_links))\n",
    "print('Number of unaccessible links:', len(unaccessible_links))"
   ]
  },
  {
   "cell_type": "code",
   "execution_count": null,
   "metadata": {},
   "outputs": [],
   "source": [
    "import json\n",
    "os.makedirs('bbc', exist_ok=True)\n",
    "i = len(os.listdir('bbc'))\n",
    "while len(links)>0:\n",
    "    result = get_article(links[0], links, visited_links, unaccessible_links)\n",
    "    if result is not None:\n",
    "        article, links, visited_links, unaccessible_links = result\n",
    "        links = list(set(links))\n",
    "        visited_links = list(set(visited_links))\n",
    "        unaccessible_links = list(set(unaccessible_links))\n",
    "        with open(f'bbc/bbc_afaanoromoo{i}.txt', 'a') as f:\n",
    "            f.write(article)\n",
    "        bbc_link = {'link': links, 'visited_links': visited_links, 'unaccessible_links': unaccessible_links}\n",
    "        with open('bbc_links.json', 'w') as f:\n",
    "            json.dump(bbc_link, f, indent=4)\n",
    "    i += 1\n",
    "    if (i>=1000):\n",
    "        break\n",
    "    time.sleep(2)\n",
    "\n",
    "bbc_link = {'link': links, 'visited_links': visited_links, 'unaccessible_links': unaccessible_links}\n",
    "with open('bbc_links.json', 'w') as f:\n",
    "    json.dump(bbc_link, f, indent=4)"
   ]
  },
  {
   "cell_type": "markdown",
   "metadata": {},
   "source": [
    "##### For a single article url "
   ]
  },
  {
   "cell_type": "code",
   "execution_count": 7,
   "metadata": {},
   "outputs": [
    {
     "data": {
      "text/plain": [
       "200"
      ]
     },
     "execution_count": 7,
     "metadata": {},
     "output_type": "execute_result"
    }
   ],
   "source": [
    "article_url = 'https://www.bbc.com/afaanoromoo/articles/c8vnz247dd3o'\n",
    "response = requests.get(article_url)\n",
    "response.status_code"
   ]
  },
  {
   "cell_type": "code",
   "execution_count": 8,
   "metadata": {},
   "outputs": [
    {
     "name": "stdout",
     "output_type": "stream",
     "text": [
      "Madda suuraa, ENA\n",
      "Hariiroon Itoophiyaa fi Yunaayitid Arab Imireetis (UAE) erga eegalee waggaa gabaabaa ta’us garuu akka waan waggaa dheeraaf ijaarameetti dubbatama.\n",
      "Keessattuu erga Ministirri Muummee Itoophiyaa Abiy Ahmad aangoo qabatanii  michummaan biyyoota lameenii akkaan dabaleera.\n",
      "Hariiroon yeroo ammaa Itoophiyaa fi UAE gidduu jiru kan sadarkaa biyyaa, jaarmiyaalee fi dureewwan biyyaatti jiruudha.\n",
      "Biyyoonni lameen dhihoo kana waliigalteewwan sadarkaa sektaraatti hojjetaman 18 ta'an waliif mallatteessaniiru.\n",
      "Waliigalteen kun diinagdee, barnoota, hojjetaa, fayyaa, teeknooloojii, qonna, ijaarsa, siyaasa, miliitarii fi kaan of keessaa qaba.\n",
      "Lammiileen Itoophiyaa kuma 250 hanga kuma 300 tilmaamaman kutaalee UAE garagaraa kanneen akka Abu Dhabi, Dubaay, Shaarjaa, Ajmaan, Raas Al Kayimaa, Ummu Al Kuween fi Fujeeyiraa keessa hojii garaagaraa irratti bobba’uun ni jiraatu.\n",
      "Yeroo dhihoo as ammoo mootummaan UAE barattoota Itoophiyaa qaxalee ta’aniif carraa barnootaa (scholarship) kennaafii jira.\n",
      "Hariiroo Itoophiyaa fi UAE gidduu ilaalchisuun UAEtti Ambaasaaddara Itoophiyaa Umar Huseen dubbisneerra.\n",
      "Hariiroon tokko sadarkaa gaariirra jira kan jedhamu yoo biyyi lachuu irraa fayyadamanidha kan jedhan Ambaasaaddar Umar, ''kan UAE fi Itoophiyaas faayidaa biyyoota lameenii eegsisuurratti waan bu’uureffateef cimuu danda’e,'' jedhan.\n",
      "UAE fi Itoophiyaan erga hariiroosaanii cimsuu eegalanii waliigalteewwan hedduu mallatteessaniiru, hedduunsaanii kan diinagdee, hawaasummaa fi siyaasaati.\n",
      "''Gama diinagdeen yoo fudhanne hanga ammaa hojii investimantii maallaqa doolaara biiliyoona 2.4 caalu biyya keenyatti hojjetaniiru,'' jedhan Ambaasaaddar Umar.\n",
      "''Walitti dhufeenyi kun akka biyyoota kaanii umrii dheeraa qabaachuu baatus garuu yeroo gabaabaa keessatti akki itti deemame bareeda,'' jedhan.\n",
      "Hariiroon biyyoota lameenii sadarkaa sektarootaatti kan raawwatu ta’uu kan himan Ambaasaaddar Umar, dhihoo kana waliigalteewwan 18 ta’an biyyoota lameen gidduutti mallattaa’uu himan.\n",
      "''Kun agarsiistuu guddaadha. Biyya lama gidduutti dhimma tokkorratti waliigaltee mallatteessuunuu yeroo dheeraa fudhata. Keenya garuu waliigalteewwan 17-18 yeroo gabaabaa keessatti sadarkaa sektarootaatti mallattaa’eera. Kun hariiroon keenya daran fooyya’aa jiraachuu mul’isa,'' jedhan.\n",
      "''Abbootiin qabeenya keenya hojii riil isteetii gurguddaa biyya kanaa keessatti hirmaatan jiru. Kun hariiroon keenya cimuusaaf agarsiistuu guddaadha.''\n",
      "Diinagdeen alatti hariiroon biyyoota lameen gidduutti cimee jiru kan gama hawaasummaa fi barnootaan jiruudha.\n",
      "Itoophiyaan bara kana humna namaa kuma 500 ta’u gara biyyoota Baha Giddugaleessaa ergiti kan jedhan Ambaasaaddar Umar, kana keessatti ga’een UAE olaanaa ta’uu dubbatan.\n",
      "''Hojjettoota humnaarraa hanga beektotaatti (pirofessionals) biyya kana keessatti hojjetu. Biyya lammiileen keenya hedduun carraa hojii itti argataniidha biyyi kun.''\n",
      "Lammiileen asitti carraa hojii argachuun Itoophiyaa gama hedduun fayyada jedhu Ambaasaaddar Umar.\n",
      "''Itoophiyaa keessatti rakkoo guddaan lammiilee hedduu miidhu hoji dhabdummaadha. Carraan asitti argame kun rakkoo kanaaf furmaata.''\n",
      "UAE keessa lammiileen Itoohiyaa mana namaatti qacaramanii hojjechuurraa hanga bizinasii mataansaanii hundeessuun nama qacaruu kan ga’an jiru.\n",
      "Kun hunduu gama Kanaan ba’aa Itoophiyaarraa buusuun alatti qabeenyisaan gara biyyaatti ergan biyyaaf faayidaa guddaa argamsiisaa jira jedhan Ambaasaaddar Umar.\n",
      "''Diinagdeen maallaqa miiliyoonotaan lakkaa’amutti herregamu asii gara biyyaa seena. Namoonni asii hojjetan maallaqasaanii gara caalu biyyatti ergu. Sharafi alaa biyya galuun ammoo biyyaaf faayidaa guddaadha.''\n",
      "Yunaayitid Arab Imireetis biyyoota addunyaa teeknooloojiin ammayyaa keessatti dagaagaa jirudha. Ambaasaaddar Umar akka jedhanitti gama teeknooloojiin waliigalteewwan hedduun biyyoota lameen gidduutti mallattaa’aniiru.\n",
      "''Namoonni keenya garana dhufanii leenjii ni fudhatu. Dhiheenyuma teeknooloojii hubannoo nam-tolchee (AI) ilaalchisuun asitti mariin taasifameera. Kun akkaataa wayita namoota gara biyyaa deebisan gama dijiitaalaan gochuun danda’amurratti (deporting system digitization) kan xiyyeefateedha. Gama teeknooloojii qonnaatiinis waliin hojjetaa jirra.''\n",
      "Gama fayyaa, pirojektootaa fi humna waraanaanis hariiroon biyyoota lameen gidduutti mallataa’ee hojiitti galamee jiraachuu kan himan Ambaasaaddar Umar, mootummaan UAE gama siyaasaanis Itoophiyaa akka deeggartu himan.\n",
      "''Hariiroon kun kan hundee jabeeffateedha. Hooggantootaa hanga jaarmiyaalee biyyootaatti michummaa jabaatu jira. Gama siyaasaanis amanamummaa qaban agarsiisaniiru. Yeroo gaariittis, yeroo rakkinaas akka nu waliin jiran mirkaneessaniiru.''\n",
      "Hariiroon hawaasummaa dhimmoota xiyyeeffannaan kennameef keessaati kan jedhan Ambaasaaddar Umar, carraa hojii fi barnootaa akka fakkeenyaatti kaasan.\n",
      "''Mana namaatti qacaramanii kan hojjetan irraa kaasee hanga pirofeeshiniin hojjechuutti, sadarkaa yuniversitiitti barsiisuutti namoota keenyaaf carraan banameera. Kun hamma barbaanne ta’uu baatullee gama hawaasummaan hariiroon keenya dabalaa jiraachuu agarsiisa,'' jedhan.\n",
      "Mootummaan UAE barattoota qaroo biyyoota guddataa jiraniif carraa barnootaa (scholarship) kennuun gama teeknooloojiin ga’oomsuurratti xiyyeeffateera.\n",
      "Barattoonni Itoophiyaas kanneen carraa kanarraa adda durummaan fayyadamaniidha akka Ambaasaaddar Umar jedhanitti.\n",
      "Barattoonni carraa barnootaa argatanis haala barnootaa mijataa argatanitti fayyadamuun dorgomtoota ta’anii biyya boonsaniiru jedhan.\n",
      "''Barattoonni keenya baayyee ciccimoodha, nu boonsaniiru. Qabxiinsaaniis baayyee gaariidha. Baayyeen isaaniin boona.''\n",
      "Ambaasaaddar Umar akka jedhanitti erga mootummaan UAE carraa barnootaa barattoota Itoophiyaaf kennuu eegalee kann eebbifamanii carraa hojii argatanis jiru.\n",
      "''Barnoota damee saayinsii fi teeknooloojii keessatti bakka guddaa qabu baratu. Damee IT, AI fi saayinsii kaaniin kanneen eebbifaman akkaataasaan hojii argachuu danda’an irratti dubbataa jirra,'' jedhan.\n",
      "Barattoonni yuniversitiiwwan UAE keessatti baratan barnoota qabatamaan hojiirra oolchuu danda’aniin akka ga’ooman BBCtti himaniiru.\n",
      "''Saayinsii salphaatti hojiitti hiikuu danda’an baratan. Mootummaan biyya kanaa baasii isaanii hunda danda’ee barsiise. Garuu kana goone jedhaniillee hin dubbatan.''\n",
      "Deeggarsa maallaqaan, teeknooloojiin Itoophiyaaf taasisaniin cinaatti gama hawaasummaa fi barnootaanis hojiin isaan hojjetaa jiran hariiroon biyyoota lameenii daran cimaa jiraachuu agarsiisa jedhan Ambaasaaddar Umar.\n",
      "Lammiileen biyya tokko hojii barbaacha wayita biyyaa ba’an carraan isaan dhaban keessaa tokko bakka amantii argachuun akka fedhanitti waaqeffachuudha.\n",
      "Mootummaan UAE garuu lammiilee Itoophiyaaf carraa kana kenneeraaf.\n",
      "''Amantii ofii akka fedhanitti gaggeessuu danda’uun mallattoo bilisummaati. Keessattuu biyya arabaa keessatti mirga akkanaa namaaf eeguun ammoo waan guddaadha,'' jedhan Ambaasaaddar Umar.\n",
      "Mootummaan UAE amantiiwwan gosa garaagaraaf kabaja malu kennuun alattiyyuu iddoo waaqeffannaa kennuun akka gurmuun waaqeffatan eeyyameera.\n",
      "Gama kanaan hordoftoonni amantii Ortodoksii Tawaahidoo Itoophiyaa lafa kaaree 1700 magaalaa Abu Dhabi keessatti argachuun carroomaniiru.\n",
      "''Lafti mana amantii ortodoksii kun gaaffi hordoftoonni amantichaa dhiheessaniin bakka Ministirri Muummee Abiy Ahmad fi hooggantoota biyya kanaa argamanitti kenname. Warri biyya kanaa kabaja namaaf kennuun kabaji akka argamu sirriitti beeku. Lafa kanas kabajaa fi jaalalaan sirna guddaa qopheessanii nuuf kennan.''\n",
      "''Ministirri Muummee gaafatanii bulchitoonni biyya kanaas yeroo gabaabaa keessatti deebii kennan. Gaaffiin kun dhihaatee waggaa hin geenye kann lafi kenname. Itoophiyaaf jedhanii lafa hanga kana [kaaree kuma 17] kennuu jechuun waan guddaadha. Biyyattiyyu hammi kun kennamee hin beeku,'' jechuun kabajaa fi iddoo mootummaan UAE lammiilee Itoophiyaaf kenne ibsan.\n",
      "''Lammiilee keenya yeroo ammaa biyya kana keessa jiraataniif qofa osoo hin taane kanneen kanaan booda dhufaniifillee yaadanii lafa mana amantii hagana bal’atu kennan.''\n",
      "Ayyaanonni cuuphaa fi Irreechaas UAE keessatti bara darbe bifa hawwataa ta’een kabajameera.\n",
      "Biyyattii keessatti uummanni akka fedhetti walga’uun ayyaana kabajuun daangaa qaba, kunis sababa nageenya lammiileef bakki guddaan kennamuufidha.\n",
      "Ambaasaaddar Umar akka jedhanitti mootummaan UAE jijjiirama siyaasaa amma Itoophiyaatti hooggansa Ministira Muummee Abiy Ahmadin adeemaa jirullee akka deeggaru himan.\n",
      "Dhibdeen siyaasaa biyyoota lameen gidduu dhibuun ammoo dhimma hawaasummaa fi diinagdeerratti xiyyeeffatanii akka hojjetan isaan gargaare.\n",
      "''Hojiin keenya guddaan dhimma siyaasaarratti miti. Saba keenya as jiru irratti. Miidhaan akka irra hin geenye gochuuda,'' jedhan Ambaasaaddar Umar.\n",
      "Hojii sabarratti xiyyeeffate kanas karaa ijaarameen, karaa kominitii Dubaay fi Abu Dhabi jiruu, akka hojjetaa jiran himan.\n",
      "Kominitiin Itoophiyaa UAE keessa jiran lameen bulchiinsota UAE torba keessatti lammiilee Itoophiyaa gama tajaajiluutiin imbasii fi qonsilaa waliin ta’uun hojii guddaa hojjetaa jiru jedhan Ambaasaaddar Umar Huseen.\n",
      "''Karaan ittiin hawaasa keenya bira geenyu tokko karaa ijaarsa kominitiini. Kominitiin as jiru akka kan biraa miti. Humna qaba, maallaqa qaba. Asirra darbee pirojektoota akka biyyaatti jiranillee kan deeggaruudha.''\n",
      "Hariiroon biyyoota lamaan gidduu jiru, keessattuu michummaan dureewwan biyya lameen fi uummata lameen gidduu, baayyee kan gabbate ta’us, garuu carraa fi leecalloo jiruun yoo madaalle ammallee waan hedduutu hafa jedhu Ambaasaaddar Umar.\n",
      "''An carraa (potential) jiruunan madaala. Biyya kana dabalatee waliigalatti biyyoonni arabaa hundi biyya keenyatti kaluudha. Xiyyaaraan imala sa’atii afurii gadiiti. Kun mataansaa carraa salphaa miti.''\n",
      "''Lammaffaammoo biyyi kun biyyoota Baha Fogoo (Far East) jedhamnirraa osoo hin hafin nyaata fiddi. Oomishi biyya keessaa nama biyya jiruuf ga’aa miti. Nutimmoo biyyee gabbataa, haala qilleensaa mijataa, bishaan fi rooba ga’aa qabna. Oomisha gara kanatti erguuf carraa guddaa qabna,'' jedhan.\n",
      "Madaallii kanaan yoo ilaallu ganaa jalqabbiirra jirra jedhan.\n",
      "Hariiroon eegalame kun hiika kan qabaatu yoo faayidaan biyyoonni lameen walirraa argatan itti fufiinsa qabaate qofa kan jedhan Ambaasaaddar Umar, ''kanaaf ka’umsi fi dhumnillee diinagdeerratti, barnootarratti haataa’u jennee akka biyyaatti irratti hojjechaa jirra,'' jedhan.\n",
      "Namoonni UAE gara Itoophiyaa kan dhaqan hojii biizinasii qofaaf osoo hin taane qilleensa isheellee barbaacha dhaqu jedhan Ambaasaaddar Umar.\n",
      "''Kanaaf osoo haalli nageenyaa biyya jiru kun sirratee Itoophiyaan isaaniif bakka filatamtuu taati.''\n",
      "Bulchiinsonni xixiqqoon duraan adda addatti of bulchaa turan torba walitti dhufuun erga biyya UAE jedhamtu uummatanii waggoota kurna shan hin caalle keessatti guddina diinagdeen addunyaarratti sadarkaa qabatan.\n",
      "Ambaasaaddar Umar Huseen biyyi kun waan sammuu namaa misoomsuurratti hojjetteef milkoofte, gama kanaan muuxannoo jiru gara biyyaatti geessuurratti hojjetaa jirras jedhan.\n",
      "Keessattuu sirna bulchiinsaa, teeknooloojii ijaarsaa fi hubannoo nam-tolchee (AI) irratti hojiisaan hojjetan irraa waan hedduu baranna jedhan.\n",
      "''Namni kamuu wayita gara kana dhufu akka hin dhiphanneef sirna mijataa diriirsan. Biyyattii akka namni hunduu itti tolee jiraatutti ijaaran. Wayita kana namni dhufu hundi maallaqa baasa, ni nyaata, ni dhuga, mana sireef fi bashannanaaf kaffala. Kun hunduu investimantiidha.''\n",
      "Biyyi kun yeroo waggaa 50 hin caalle keessatti guddina diinagdee addunyaa ajaayibsiiserra geesse kan jedhan Ambaasaaddar Umar, ''Itoophiyaan biyya akkasiitti siquun irraa barachuun murteessadha,'' jedhan.\n",
      "''Jarrillee addunyaa ofitti qabaa jiru. Afrikaa keessaa ammoo biyyi leecalloo humna namaallee diinagdeellee qabu tokko Itoophiyaadha. Isaaniifillee filannoo sirriidha. Waan nuti isaan filanneef qofa osoo hin taane nullee ni filatamna. Isa kana madaalasaa eegnee sirriitti deemuu nu gaafata.''\n",
      "UAE keessa uummata miiliyoona 10 ol jiraatu keessaa lammiileen biyyattii miiliyoona tokko hin caalan.\n",
      "''Nama kana hunda akkamiin bulchu kan jedhu yoon ilaalu sirna jabaa waan qabaniif ta’uun hubadhe. Dhimmichi waa’ee baayyina uummataa miti, dhimmi ijoon sirna jabaa nama hojjechiisu qabaachuudha. Kana jara kanarraa baranneerra.''\n",
      "Ambaasaaddar Umar Huseen akka jedhanitti sektaroonni mootummaa Itoophiyaa bu’uura waliigaltee irra ga’ameetiin gara UAE imaluun teeknooloojiirratti, barnootarratti, ijaarsa irratti, bulchiinsa irratti muuxannoo ni qooddatu, leenjii ni fudhatu.\n",
      "Keessattuu gama barnootaa fi leenjiitiin biyyattiirraa muuxannoo guddaa qooddachaa akka jiran himan.\n",
      "''Hariiroon keenya ammaa akka kan duraa duuchaatti miti. Sektara irratti kan xiyyeeffatedha. Barnooti, miliitariin, investimantiin hunduu adda addatti karoora waliin hojjechuu qaba. Haga humna qilleensaatti kan asitti leenji’antu jiru. Ijoolleen keenya asitti baratan ammoo baayyee milkaa’u.''\n",
      "Haala kanaan hariiroo michummaa biyyoota lameenii cime  kana hojii qabatamaatti yoo geeddarre irruma caalaa irraa fayyadamna jedhan Ambaasaaddar Umar.\n"
     ]
    }
   ],
   "source": [
    "page = BeautifulSoup(response.content, 'html.parser')\n",
    "divs = page.find_all('main')\n",
    "for div in divs:\n",
    "    paragraphs = div.find_all('p')\n",
    "    for paragraph in paragraphs:\n",
    "        print(paragraph.get_text())"
   ]
  }
 ],
 "metadata": {
  "kernelspec": {
   "display_name": "base",
   "language": "python",
   "name": "python3"
  },
  "language_info": {
   "codemirror_mode": {
    "name": "ipython",
    "version": 3
   },
   "file_extension": ".py",
   "mimetype": "text/x-python",
   "name": "python",
   "nbconvert_exporter": "python",
   "pygments_lexer": "ipython3",
   "version": "3.10.13"
  }
 },
 "nbformat": 4,
 "nbformat_minor": 2
}
